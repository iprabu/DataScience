{
 "cells": [
  {
   "cell_type": "code",
   "execution_count": 1,
   "id": "c62babdc",
   "metadata": {},
   "outputs": [],
   "source": [
    "def show():\n",
    "    print('Hello world')"
   ]
  },
  {
   "cell_type": "code",
   "execution_count": 2,
   "id": "ea43290a",
   "metadata": {},
   "outputs": [
    {
     "name": "stdout",
     "output_type": "stream",
     "text": [
      "Hello world\n"
     ]
    }
   ],
   "source": [
    "show()"
   ]
  },
  {
   "cell_type": "code",
   "execution_count": 3,
   "id": "22ff0b64",
   "metadata": {},
   "outputs": [],
   "source": [
    "def cube(i):\n",
    "    cube = i * i * i\n",
    "    print(cube)"
   ]
  },
  {
   "cell_type": "code",
   "execution_count": 4,
   "id": "bc0929b1",
   "metadata": {},
   "outputs": [
    {
     "name": "stdout",
     "output_type": "stream",
     "text": [
      "64\n"
     ]
    }
   ],
   "source": [
    "cube(4)"
   ]
  },
  {
   "cell_type": "code",
   "execution_count": 6,
   "id": "e69cd394",
   "metadata": {},
   "outputs": [],
   "source": [
    "def compare(x,y):\n",
    "    if x>y:\n",
    "        return x\n",
    "    else:\n",
    "        return y"
   ]
  },
  {
   "cell_type": "markdown",
   "id": "2031effa",
   "metadata": {},
   "source": [
    "var1 = compare(3,4)\n",
    "var1"
   ]
  },
  {
   "cell_type": "code",
   "execution_count": 7,
   "id": "d9ae7aac",
   "metadata": {},
   "outputs": [],
   "source": [
    "var1 = compare(3,4)"
   ]
  },
  {
   "cell_type": "code",
   "execution_count": 8,
   "id": "0e06bf88",
   "metadata": {},
   "outputs": [
    {
     "data": {
      "text/plain": [
       "4"
      ]
     },
     "execution_count": 8,
     "metadata": {},
     "output_type": "execute_result"
    }
   ],
   "source": [
    "var1"
   ]
  },
  {
   "cell_type": "code",
   "execution_count": 9,
   "id": "e1a2c360",
   "metadata": {},
   "outputs": [],
   "source": [
    "def calc(num):\n",
    "    sq = num*num\n",
    "    cu = sq * num\n",
    "    return sq, cu    "
   ]
  },
  {
   "cell_type": "code",
   "execution_count": 10,
   "id": "38c514e3",
   "metadata": {},
   "outputs": [
    {
     "name": "stdout",
     "output_type": "stream",
     "text": [
      "Square and cube are:  16 64\n"
     ]
    }
   ],
   "source": [
    "x, y = calc(4)\n",
    "print('Square and cube are: ',x,y)"
   ]
  },
  {
   "cell_type": "code",
   "execution_count": 12,
   "id": "373238c0",
   "metadata": {},
   "outputs": [],
   "source": [
    "def add1(x=5,y=7,z=3):\n",
    "    a=x+y+z\n",
    "    return a\n"
   ]
  },
  {
   "cell_type": "code",
   "execution_count": 14,
   "id": "f711a661",
   "metadata": {},
   "outputs": [
    {
     "name": "stdout",
     "output_type": "stream",
     "text": [
      "Ans 1:  12\n",
      "Ans 2: 13\n"
     ]
    }
   ],
   "source": [
    "print ('Ans 1: ', add1(4,6,2))\n",
    "print('Ans 2:', add1(4,6))\n"
   ]
  },
  {
   "cell_type": "code",
   "execution_count": null,
   "id": "062989cb",
   "metadata": {},
   "outputs": [],
   "source": []
  }
 ],
 "metadata": {
  "kernelspec": {
   "display_name": "Python 3 (ipykernel)",
   "language": "python",
   "name": "python3"
  },
  "language_info": {
   "codemirror_mode": {
    "name": "ipython",
    "version": 3
   },
   "file_extension": ".py",
   "mimetype": "text/x-python",
   "name": "python",
   "nbconvert_exporter": "python",
   "pygments_lexer": "ipython3",
   "version": "3.11.5"
  }
 },
 "nbformat": 4,
 "nbformat_minor": 5
}
