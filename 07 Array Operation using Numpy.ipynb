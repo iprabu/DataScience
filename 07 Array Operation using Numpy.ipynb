{
 "cells": [
  {
   "cell_type": "code",
   "execution_count": 1,
   "id": "ae447593",
   "metadata": {},
   "outputs": [],
   "source": [
    "import numpy as np"
   ]
  },
  {
   "cell_type": "code",
   "execution_count": 2,
   "id": "5fb29436",
   "metadata": {},
   "outputs": [],
   "source": [
    "num = np.array([56,33,12,78,52,68,25])"
   ]
  },
  {
   "cell_type": "code",
   "execution_count": 3,
   "id": "40bc8e28",
   "metadata": {},
   "outputs": [
    {
     "data": {
      "text/plain": [
       "array([56, 33, 12, 78, 52, 68, 25])"
      ]
     },
     "execution_count": 3,
     "metadata": {},
     "output_type": "execute_result"
    }
   ],
   "source": [
    "num"
   ]
  },
  {
   "cell_type": "code",
   "execution_count": 4,
   "id": "7101618e",
   "metadata": {},
   "outputs": [
    {
     "data": {
      "text/plain": [
       "numpy.ndarray"
      ]
     },
     "execution_count": 4,
     "metadata": {},
     "output_type": "execute_result"
    }
   ],
   "source": [
    "type(num)"
   ]
  },
  {
   "cell_type": "code",
   "execution_count": 5,
   "id": "4999bdc3",
   "metadata": {},
   "outputs": [
    {
     "name": "stdout",
     "output_type": "stream",
     "text": [
      "[56 33 12 78 52 68 25]\n"
     ]
    }
   ],
   "source": [
    "print (num)"
   ]
  },
  {
   "cell_type": "code",
   "execution_count": 6,
   "id": "83fdf49a",
   "metadata": {},
   "outputs": [
    {
     "data": {
      "text/plain": [
       "dtype('int32')"
      ]
     },
     "execution_count": 6,
     "metadata": {},
     "output_type": "execute_result"
    }
   ],
   "source": [
    "num.dtype"
   ]
  },
  {
   "cell_type": "code",
   "execution_count": 7,
   "id": "bd999e26",
   "metadata": {},
   "outputs": [],
   "source": [
    "num = np.array([56,33,12,78,52,68,25], dtype = np.int16)"
   ]
  },
  {
   "cell_type": "code",
   "execution_count": 8,
   "id": "cd85390a",
   "metadata": {},
   "outputs": [
    {
     "data": {
      "text/plain": [
       "array([56, 33, 12, 78, 52, 68, 25], dtype=int16)"
      ]
     },
     "execution_count": 8,
     "metadata": {},
     "output_type": "execute_result"
    }
   ],
   "source": [
    "num"
   ]
  },
  {
   "cell_type": "code",
   "execution_count": 9,
   "id": "fb5436af",
   "metadata": {},
   "outputs": [
    {
     "data": {
      "text/plain": [
       "dtype('int16')"
      ]
     },
     "execution_count": 9,
     "metadata": {},
     "output_type": "execute_result"
    }
   ],
   "source": [
    "num.dtype"
   ]
  },
  {
   "cell_type": "code",
   "execution_count": 10,
   "id": "623c2902",
   "metadata": {},
   "outputs": [
    {
     "data": {
      "text/plain": [
       "68"
      ]
     },
     "execution_count": 10,
     "metadata": {},
     "output_type": "execute_result"
    }
   ],
   "source": [
    "num[5]"
   ]
  },
  {
   "cell_type": "code",
   "execution_count": 11,
   "id": "6cabf1c3",
   "metadata": {},
   "outputs": [
    {
     "data": {
      "text/plain": [
       "array([56, 33, 12, 78, 52, 61, 25], dtype=int16)"
      ]
     },
     "execution_count": 11,
     "metadata": {},
     "output_type": "execute_result"
    }
   ],
   "source": [
    "num[5]=61\n",
    "num"
   ]
  },
  {
   "cell_type": "code",
   "execution_count": 12,
   "id": "bfbf0f1d",
   "metadata": {},
   "outputs": [
    {
     "data": {
      "text/plain": [
       "1"
      ]
     },
     "execution_count": 12,
     "metadata": {},
     "output_type": "execute_result"
    }
   ],
   "source": [
    "num.ndim"
   ]
  },
  {
   "cell_type": "code",
   "execution_count": 13,
   "id": "00908fef",
   "metadata": {},
   "outputs": [
    {
     "data": {
      "text/plain": [
       "12"
      ]
     },
     "execution_count": 13,
     "metadata": {},
     "output_type": "execute_result"
    }
   ],
   "source": [
    "num.min()"
   ]
  },
  {
   "cell_type": "code",
   "execution_count": 14,
   "id": "932e1eab",
   "metadata": {},
   "outputs": [
    {
     "data": {
      "text/plain": [
       "78"
      ]
     },
     "execution_count": 14,
     "metadata": {},
     "output_type": "execute_result"
    }
   ],
   "source": [
    "num.max()"
   ]
  },
  {
   "cell_type": "code",
   "execution_count": 15,
   "id": "16fcb431",
   "metadata": {},
   "outputs": [
    {
     "data": {
      "text/plain": [
       "21.204543217462255"
      ]
     },
     "execution_count": 15,
     "metadata": {},
     "output_type": "execute_result"
    }
   ],
   "source": [
    "num.std()"
   ]
  },
  {
   "cell_type": "code",
   "execution_count": 16,
   "id": "559c83ea",
   "metadata": {},
   "outputs": [],
   "source": [
    "num1 = np.array([45.67,23.56,89.03])"
   ]
  },
  {
   "cell_type": "code",
   "execution_count": 17,
   "id": "22cfa81e",
   "metadata": {},
   "outputs": [
    {
     "data": {
      "text/plain": [
       "dtype('float64')"
      ]
     },
     "execution_count": 17,
     "metadata": {},
     "output_type": "execute_result"
    }
   ],
   "source": [
    "num1.dtype"
   ]
  },
  {
   "cell_type": "code",
   "execution_count": 18,
   "id": "5c3a6e5e",
   "metadata": {},
   "outputs": [
    {
     "data": {
      "text/plain": [
       "array([112,  66,  24, 156, 104, 122,  50], dtype=int16)"
      ]
     },
     "execution_count": 18,
     "metadata": {},
     "output_type": "execute_result"
    }
   ],
   "source": [
    "num * 2"
   ]
  },
  {
   "cell_type": "code",
   "execution_count": 19,
   "id": "de5204d3",
   "metadata": {},
   "outputs": [
    {
     "data": {
      "text/plain": [
       "array([ True, False, False,  True,  True,  True, False])"
      ]
     },
     "execution_count": 19,
     "metadata": {},
     "output_type": "execute_result"
    }
   ],
   "source": [
    "num > 40"
   ]
  },
  {
   "cell_type": "code",
   "execution_count": 20,
   "id": "fc71272f",
   "metadata": {},
   "outputs": [
    {
     "data": {
      "text/plain": [
       "array([56, 78, 52, 61], dtype=int16)"
      ]
     },
     "execution_count": 20,
     "metadata": {},
     "output_type": "execute_result"
    }
   ],
   "source": [
    "num[num>40]"
   ]
  },
  {
   "cell_type": "code",
   "execution_count": 21,
   "id": "09306c60",
   "metadata": {},
   "outputs": [],
   "source": [
    "M = np.array([[5,6,7],[2,4,3],[6,8,9],[0,1,3]])"
   ]
  },
  {
   "cell_type": "code",
   "execution_count": 22,
   "id": "320110e5",
   "metadata": {},
   "outputs": [
    {
     "data": {
      "text/plain": [
       "array([[5, 6, 7],\n",
       "       [2, 4, 3],\n",
       "       [6, 8, 9],\n",
       "       [0, 1, 3]])"
      ]
     },
     "execution_count": 22,
     "metadata": {},
     "output_type": "execute_result"
    }
   ],
   "source": [
    "M"
   ]
  },
  {
   "cell_type": "code",
   "execution_count": 23,
   "id": "9b6764fa",
   "metadata": {},
   "outputs": [
    {
     "data": {
      "text/plain": [
       "2"
      ]
     },
     "execution_count": 23,
     "metadata": {},
     "output_type": "execute_result"
    }
   ],
   "source": [
    "M.ndim"
   ]
  },
  {
   "cell_type": "code",
   "execution_count": 24,
   "id": "c95df5fa",
   "metadata": {},
   "outputs": [
    {
     "data": {
      "text/plain": [
       "(4, 3)"
      ]
     },
     "execution_count": 24,
     "metadata": {},
     "output_type": "execute_result"
    }
   ],
   "source": [
    "M.shape"
   ]
  },
  {
   "cell_type": "code",
   "execution_count": 25,
   "id": "f45def68",
   "metadata": {},
   "outputs": [
    {
     "data": {
      "text/plain": [
       "12"
      ]
     },
     "execution_count": 25,
     "metadata": {},
     "output_type": "execute_result"
    }
   ],
   "source": [
    "M.size"
   ]
  },
  {
   "cell_type": "code",
   "execution_count": 27,
   "id": "d2301030",
   "metadata": {},
   "outputs": [
    {
     "data": {
      "text/plain": [
       "array([[5, 2, 6, 0],\n",
       "       [6, 4, 8, 1],\n",
       "       [7, 3, 9, 3]])"
      ]
     },
     "execution_count": 27,
     "metadata": {},
     "output_type": "execute_result"
    }
   ],
   "source": [
    "M.transpose()"
   ]
  },
  {
   "cell_type": "code",
   "execution_count": 28,
   "id": "38de6f50",
   "metadata": {},
   "outputs": [
    {
     "data": {
      "text/plain": [
       "array([[5, 6, 7],\n",
       "       [2, 4, 3],\n",
       "       [6, 8, 9],\n",
       "       [0, 1, 3]])"
      ]
     },
     "execution_count": 28,
     "metadata": {},
     "output_type": "execute_result"
    }
   ],
   "source": [
    "M"
   ]
  },
  {
   "cell_type": "code",
   "execution_count": 29,
   "id": "37f3e0c2",
   "metadata": {},
   "outputs": [
    {
     "data": {
      "text/plain": [
       "6"
      ]
     },
     "execution_count": 29,
     "metadata": {},
     "output_type": "execute_result"
    }
   ],
   "source": [
    "M[0][1]"
   ]
  },
  {
   "cell_type": "code",
   "execution_count": 30,
   "id": "09970e12",
   "metadata": {},
   "outputs": [
    {
     "data": {
      "text/plain": [
       "6"
      ]
     },
     "execution_count": 30,
     "metadata": {},
     "output_type": "execute_result"
    }
   ],
   "source": [
    "M[0,1]"
   ]
  },
  {
   "cell_type": "code",
   "execution_count": 31,
   "id": "91404ba6",
   "metadata": {},
   "outputs": [
    {
     "data": {
      "text/plain": [
       "array([[5, 2, 6, 0],\n",
       "       [6, 4, 8, 1],\n",
       "       [7, 3, 9, 3]])"
      ]
     },
     "execution_count": 31,
     "metadata": {},
     "output_type": "execute_result"
    }
   ],
   "source": [
    "M.T"
   ]
  },
  {
   "cell_type": "code",
   "execution_count": 32,
   "id": "13d299d9",
   "metadata": {},
   "outputs": [
    {
     "data": {
      "text/plain": [
       "array([[5, 6],\n",
       "       [7, 2],\n",
       "       [4, 3],\n",
       "       [6, 8],\n",
       "       [9, 0],\n",
       "       [1, 3]])"
      ]
     },
     "execution_count": 32,
     "metadata": {},
     "output_type": "execute_result"
    }
   ],
   "source": [
    "M.reshape(6,2)"
   ]
  },
  {
   "cell_type": "code",
   "execution_count": 33,
   "id": "97e8db21",
   "metadata": {},
   "outputs": [
    {
     "data": {
      "text/plain": [
       "array([5, 6, 7, 2, 4, 3, 6, 8, 9, 0, 1, 3])"
      ]
     },
     "execution_count": 33,
     "metadata": {},
     "output_type": "execute_result"
    }
   ],
   "source": [
    "M.flatten()"
   ]
  },
  {
   "cell_type": "code",
   "execution_count": 35,
   "id": "965cc675",
   "metadata": {},
   "outputs": [
    {
     "data": {
      "text/plain": [
       "array([5, 6, 7, 2, 4, 3, 6, 8, 9, 0, 1, 3])"
      ]
     },
     "execution_count": 35,
     "metadata": {},
     "output_type": "execute_result"
    }
   ],
   "source": [
    "M.reshape(12)"
   ]
  },
  {
   "cell_type": "code",
   "execution_count": 36,
   "id": "3cf76ead",
   "metadata": {},
   "outputs": [
    {
     "data": {
      "text/plain": [
       "array([[5, 6, 7],\n",
       "       [2, 4, 3],\n",
       "       [6, 8, 9],\n",
       "       [0, 1, 3]])"
      ]
     },
     "execution_count": 36,
     "metadata": {},
     "output_type": "execute_result"
    }
   ],
   "source": [
    "M"
   ]
  },
  {
   "cell_type": "code",
   "execution_count": 37,
   "id": "914f23e7",
   "metadata": {},
   "outputs": [
    {
     "data": {
      "text/plain": [
       "array([5, 6, 7, 2, 4, 3, 6, 8, 9, 0, 1, 3])"
      ]
     },
     "execution_count": 37,
     "metadata": {},
     "output_type": "execute_result"
    }
   ],
   "source": [
    "M.reshape(-1)"
   ]
  },
  {
   "cell_type": "code",
   "execution_count": 38,
   "id": "90a3ae1e",
   "metadata": {},
   "outputs": [
    {
     "data": {
      "text/plain": [
       "array([[5, 6, 7],\n",
       "       [2, 4, 3],\n",
       "       [6, 8, 9],\n",
       "       [0, 1, 3]])"
      ]
     },
     "execution_count": 38,
     "metadata": {},
     "output_type": "execute_result"
    }
   ],
   "source": [
    "M"
   ]
  },
  {
   "cell_type": "code",
   "execution_count": 39,
   "id": "c139688d",
   "metadata": {},
   "outputs": [
    {
     "data": {
      "text/plain": [
       "array([[5, 6, 7, 2],\n",
       "       [4, 3, 6, 8],\n",
       "       [9, 0, 1, 3]])"
      ]
     },
     "execution_count": 39,
     "metadata": {},
     "output_type": "execute_result"
    }
   ],
   "source": [
    "M.reshape(-1,4)"
   ]
  },
  {
   "cell_type": "code",
   "execution_count": null,
   "id": "970e221b",
   "metadata": {},
   "outputs": [],
   "source": []
  }
 ],
 "metadata": {
  "kernelspec": {
   "display_name": "Python 3 (ipykernel)",
   "language": "python",
   "name": "python3"
  },
  "language_info": {
   "codemirror_mode": {
    "name": "ipython",
    "version": 3
   },
   "file_extension": ".py",
   "mimetype": "text/x-python",
   "name": "python",
   "nbconvert_exporter": "python",
   "pygments_lexer": "ipython3",
   "version": "3.11.5"
  }
 },
 "nbformat": 4,
 "nbformat_minor": 5
}
