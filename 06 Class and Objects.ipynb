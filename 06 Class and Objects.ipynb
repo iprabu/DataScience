{
 "cells": [
  {
   "cell_type": "code",
   "execution_count": 7,
   "id": "6b0b25ca",
   "metadata": {},
   "outputs": [],
   "source": [
    "class Person:\n",
    "    # Constructor\n",
    "    def __init__(self,n,a):\n",
    "        self.name = n     # instance variables\n",
    "        self.age = a\n",
    "    def show(self):     # function / behaviour\n",
    "        print('My data: ', self.name, self.age)\n",
    "    def isEligibleForVoting(self):\n",
    "        if self.age >= 18:\n",
    "            return True\n",
    "        else:\n",
    "            return False"
   ]
  },
  {
   "cell_type": "code",
   "execution_count": 2,
   "id": "17fd87db",
   "metadata": {},
   "outputs": [],
   "source": [
    "# Create the object\n",
    "obj1 = Person('Abcd', 23)"
   ]
  },
  {
   "cell_type": "code",
   "execution_count": 3,
   "id": "c38f9e83",
   "metadata": {},
   "outputs": [
    {
     "data": {
      "text/plain": [
       "('Abcd', 23)"
      ]
     },
     "execution_count": 3,
     "metadata": {},
     "output_type": "execute_result"
    }
   ],
   "source": [
    "obj1.name, obj1.age"
   ]
  },
  {
   "cell_type": "code",
   "execution_count": 4,
   "id": "7db5dba4",
   "metadata": {},
   "outputs": [],
   "source": [
    "obj2 = Person('Zxcv', 19)"
   ]
  },
  {
   "cell_type": "code",
   "execution_count": 5,
   "id": "07f04ae4",
   "metadata": {},
   "outputs": [
    {
     "name": "stdout",
     "output_type": "stream",
     "text": [
      "My data:  Zxcv 19\n"
     ]
    }
   ],
   "source": [
    "obj2.show()"
   ]
  },
  {
   "cell_type": "code",
   "execution_count": 8,
   "id": "f66b3a05",
   "metadata": {},
   "outputs": [
    {
     "ename": "AttributeError",
     "evalue": "'Person' object has no attribute 'isEligibleForVoting'",
     "output_type": "error",
     "traceback": [
      "\u001b[1;31m---------------------------------------------------------------------------\u001b[0m",
      "\u001b[1;31mAttributeError\u001b[0m                            Traceback (most recent call last)",
      "Cell \u001b[1;32mIn[8], line 1\u001b[0m\n\u001b[1;32m----> 1\u001b[0m obj2\u001b[38;5;241m.\u001b[39misEligibleForVoting()\n",
      "\u001b[1;31mAttributeError\u001b[0m: 'Person' object has no attribute 'isEligibleForVoting'"
     ]
    }
   ],
   "source": [
    "obj2.isEligibleForVoting()"
   ]
  },
  {
   "cell_type": "code",
   "execution_count": 10,
   "id": "2dc00b6e",
   "metadata": {},
   "outputs": [],
   "source": [
    "obj3 = Person('Qwer', 17)"
   ]
  },
  {
   "cell_type": "code",
   "execution_count": 11,
   "id": "0ba7eb9b",
   "metadata": {},
   "outputs": [
    {
     "data": {
      "text/plain": [
       "False"
      ]
     },
     "execution_count": 11,
     "metadata": {},
     "output_type": "execute_result"
    }
   ],
   "source": [
    "obj3.isEligibleForVoting()"
   ]
  },
  {
   "cell_type": "markdown",
   "id": "000d50b2",
   "metadata": {},
   "source": [
    "obj2.isEligibleForVoting()"
   ]
  },
  {
   "cell_type": "code",
   "execution_count": 12,
   "id": "b0b5fa51",
   "metadata": {},
   "outputs": [
    {
     "ename": "AttributeError",
     "evalue": "'Person' object has no attribute 'isEligibleForVoting'",
     "output_type": "error",
     "traceback": [
      "\u001b[1;31m---------------------------------------------------------------------------\u001b[0m",
      "\u001b[1;31mAttributeError\u001b[0m                            Traceback (most recent call last)",
      "Cell \u001b[1;32mIn[12], line 1\u001b[0m\n\u001b[1;32m----> 1\u001b[0m obj2\u001b[38;5;241m.\u001b[39misEligibleForVoting()\n",
      "\u001b[1;31mAttributeError\u001b[0m: 'Person' object has no attribute 'isEligibleForVoting'"
     ]
    }
   ],
   "source": [
    "obj2.isEligibleForVoting()"
   ]
  },
  {
   "cell_type": "code",
   "execution_count": 13,
   "id": "baf7b50c",
   "metadata": {},
   "outputs": [
    {
     "ename": "AttributeError",
     "evalue": "'Person' object has no attribute 'isEligibleForVoting'",
     "output_type": "error",
     "traceback": [
      "\u001b[1;31m---------------------------------------------------------------------------\u001b[0m",
      "\u001b[1;31mAttributeError\u001b[0m                            Traceback (most recent call last)",
      "Cell \u001b[1;32mIn[13], line 1\u001b[0m\n\u001b[1;32m----> 1\u001b[0m obj1\u001b[38;5;241m.\u001b[39misEligibleForVoting()\n",
      "\u001b[1;31mAttributeError\u001b[0m: 'Person' object has no attribute 'isEligibleForVoting'"
     ]
    }
   ],
   "source": [
    "obj1.isEligibleForVoting()"
   ]
  },
  {
   "cell_type": "code",
   "execution_count": 14,
   "id": "958f9875",
   "metadata": {},
   "outputs": [
    {
     "name": "stdout",
     "output_type": "stream",
     "text": [
      "My data:  Abcd 23\n"
     ]
    }
   ],
   "source": [
    "obj1.show()"
   ]
  },
  {
   "cell_type": "code",
   "execution_count": 15,
   "id": "367200d4",
   "metadata": {},
   "outputs": [
    {
     "name": "stdout",
     "output_type": "stream",
     "text": [
      "My data:  Qwer 17\n"
     ]
    }
   ],
   "source": [
    "obj3.show()"
   ]
  },
  {
   "cell_type": "code",
   "execution_count": null,
   "id": "e297c27c",
   "metadata": {},
   "outputs": [],
   "source": []
  }
 ],
 "metadata": {
  "kernelspec": {
   "display_name": "Python 3 (ipykernel)",
   "language": "python",
   "name": "python3"
  },
  "language_info": {
   "codemirror_mode": {
    "name": "ipython",
    "version": 3
   },
   "file_extension": ".py",
   "mimetype": "text/x-python",
   "name": "python",
   "nbconvert_exporter": "python",
   "pygments_lexer": "ipython3",
   "version": "3.11.5"
  }
 },
 "nbformat": 4,
 "nbformat_minor": 5
}
