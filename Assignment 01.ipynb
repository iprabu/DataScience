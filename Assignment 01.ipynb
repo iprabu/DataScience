{
 "cells": [
  {
   "cell_type": "code",
   "execution_count": 1,
   "id": "8cc83583",
   "metadata": {},
   "outputs": [
    {
     "name": "stdout",
     "output_type": "stream",
     "text": [
      "Enter temperature in Celsius: -40\n",
      "The equivalent temperature in Fahrenheit is:  -40.0\n"
     ]
    }
   ],
   "source": [
    "celsius = float(input(\"Enter temperature in Celsius: \"))\n",
    "print(\"The equivalent temperature in Fahrenheit is: \", (celsius * 9/5) + 32)"
   ]
  },
  {
   "cell_type": "code",
   "execution_count": 2,
   "id": "48893bf6",
   "metadata": {},
   "outputs": [
    {
     "name": "stdout",
     "output_type": "stream",
     "text": [
      "Enter the radius of the circle: 2\n",
      "The area of the circle is:  12.566370614359172\n",
      "The perimeter of the circle is:  12.566370614359172\n"
     ]
    }
   ],
   "source": [
    "import math\n",
    "radius = float(input(\"Enter the radius of the circle: \"))\n",
    "print(\"The area of the circle is: \", math.pi * (radius ** 2))\n",
    "print(\"The perimeter of the circle is: \", 2 * math.pi * radius)"
   ]
  },
  {
   "cell_type": "code",
   "execution_count": 3,
   "id": "2c18b489",
   "metadata": {},
   "outputs": [
    {
     "name": "stdout",
     "output_type": "stream",
     "text": [
      "Enter the original amount: 100\n",
      "Enter the percentage of interest: 9\n",
      "The final amount after adding interest is:  109.0\n"
     ]
    }
   ],
   "source": [
    "amount = float(input(\"Enter the original amount: \"))\n",
    "interest_rate = float(input(\"Enter the percentage of interest: \"))\n",
    "print(\"The final amount after adding interest is: \", (amount + ((amount * interest_rate) / 100)))"
   ]
  },
  {
   "cell_type": "code",
   "execution_count": 4,
   "id": "ea72012e",
   "metadata": {},
   "outputs": [
    {
     "name": "stdout",
     "output_type": "stream",
     "text": [
      "Enter the distance in meters: 10\n",
      "The distance in centimeters is:  1000.0\n",
      "The distance in inches is:  393.701\n",
      "The distance in yards is:  10.9361\n"
     ]
    }
   ],
   "source": [
    "meters = float(input(\"Enter the distance in meters: \"))\n",
    "print(\"The distance in centimeters is: \", meters * 100)\n",
    "print(\"The distance in inches is: \", meters * 39.3701)\n",
    "print(\"The distance in yards is: \", meters * 1.09361)"
   ]
  },
  {
   "cell_type": "code",
   "execution_count": 5,
   "id": "54d9caf0",
   "metadata": {},
   "outputs": [
    {
     "name": "stdout",
     "output_type": "stream",
     "text": [
      "Enter the actual cost of the product: 21\n",
      "Enter the selling cost of the product: 23\n",
      "Profit is  2.0\n"
     ]
    }
   ],
   "source": [
    "actual_cost = float(input(\"Enter the actual cost of the product: \"))\n",
    "selling_cost = float(input(\"Enter the selling cost of the product: \"))\n",
    "if selling_cost > actual_cost:\n",
    "    print(\"Profit is \", selling_cost - actual_cost)\n",
    "elif selling_cost < actual_cost:\n",
    "    print(\"Loss is \", actual_cost - selling_cost)\n",
    "else:\n",
    "    print(\"No profit, no loss\")"
   ]
  },
  {
   "cell_type": "code",
   "execution_count": 8,
   "id": "7be1b415",
   "metadata": {},
   "outputs": [
    {
     "name": "stdout",
     "output_type": "stream",
     "text": [
      "Enter the basic salary: 5000\n",
      "The gross salary is:  8750.0\n"
     ]
    }
   ],
   "source": [
    "def calculate_gross_salary(basic_salary):\n",
    "    da = 0.75 * basic_salary\n",
    "    hra = 0.20 * basic_salary\n",
    "\n",
    "    if basic_salary < 10000:\n",
    "        gross_salary = basic_salary + da\n",
    "    elif 10000 <= basic_salary < 20000:\n",
    "        gross_salary = basic_salary + da + (0.50 * hra)\n",
    "    else:  # basic_saLary >= 20000\n",
    "        gross_salary = basic_salary + da + hra\n",
    "\n",
    "    return gross_salary\n",
    "\n",
    "basic_salary = float(input(\"Enter the basic salary: \"))\n",
    "\n",
    "gross_salary = calculate_gross_salary(basic_salary)\n",
    "\n",
    "print(\"The gross salary is: \", gross_salary)\n"
   ]
  },
  {
   "cell_type": "code",
   "execution_count": 9,
   "id": "0fc871ef",
   "metadata": {},
   "outputs": [
    {
     "name": "stdout",
     "output_type": "stream",
     "text": [
      "Enter a number: 5\n",
      "The factorial value is:  120\n"
     ]
    }
   ],
   "source": [
    "import math\n",
    "number = int(input(\"Enter a number: \"))\n",
    "if number < 0:\n",
    "    print(\"Factorial is not defined for negative numbers.\")\n",
    "else:\n",
    "    print(\"The factorial value is: \", math.factorial(number))"
   ]
  },
  {
   "cell_type": "code",
   "execution_count": 10,
   "id": "c5570fb1",
   "metadata": {},
   "outputs": [
    {
     "name": "stdout",
     "output_type": "stream",
     "text": [
      "Enter the first number (num1): 1\n",
      "Enter the second number (num2): 5\n",
      "Addition within the input number range is  15\n"
     ]
    }
   ],
   "source": [
    "num1 = int(input(\"Enter the first number (num1): \"))\n",
    "num2 = int(input(\"Enter the second number (num2): \"))\n",
    "if num1 > num2:\n",
    "    num1, num2 = num2, num1\n",
    "print(\"Addition within the input number range is \", sum(range(num1, num2 + 1)))"
   ]
  },
  {
   "cell_type": "code",
   "execution_count": 11,
   "id": "5da3dd2a",
   "metadata": {},
   "outputs": [
    {
     "name": "stdout",
     "output_type": "stream",
     "text": [
      "Even numbers list:  [56, 2, 48, 32, 56, 68]\n",
      "Odd numbers list:  [35, 41, 43, 71, 55]\n"
     ]
    }
   ],
   "source": [
    "num = (56, 2, 35, 41, 43, 48, 32, 56, 71, 55, 68)\n",
    "even_numbers = [n for n in num if n % 2 == 0]\n",
    "odd_numbers = [n for n in num if n % 2 != 0]\n",
    "print(\"Even numbers list: \", even_numbers)\n",
    "print(\"Odd numbers list: \", odd_numbers)"
   ]
  },
  {
   "cell_type": "code",
   "execution_count": 14,
   "id": "1274762d",
   "metadata": {},
   "outputs": [
    {
     "name": "stdout",
     "output_type": "stream",
     "text": [
      "Enter a number: 5\n",
      "The number is  Odd\n"
     ]
    }
   ],
   "source": [
    "def check_odd_even(number):\n",
    "    if number % 2 == 0:\n",
    "        return \"Even\"\n",
    "    else:\n",
    "        return \"Odd\"\n",
    "\n",
    "number = int(input(\"Enter a number: \"))\n",
    "result = check_odd_even(number)\n",
    "print(\"The number is \", result)"
   ]
  },
  {
   "cell_type": "code",
   "execution_count": 16,
   "id": "60eacc67",
   "metadata": {},
   "outputs": [
    {
     "name": "stdout",
     "output_type": "stream",
     "text": [
      "Enter a number: 4\n",
      "The square root is:  2.0\n",
      "The sin value is:  0.0697564737441253\n",
      "The tan value is:  0.06992681194351041\n",
      "The base-10 logarithm value is:  0.6020599913279624\n",
      "The factorial value is:  24\n"
     ]
    }
   ],
   "source": [
    "import math\n",
    "number = int(input(\"Enter a number: \"))\n",
    "print(\"The square root is: \", math.sqrt(number))\n",
    "print(\"The sin value is: \", math.sin(math.radians(number)))\n",
    "print(\"The tan value is: \", math.tan(math.radians(number)))\n",
    "if number > 0:\n",
    "    print(\"The base-10 logarithm value is: \", math.log10(number))\n",
    "else:\n",
    "    print(\"Logarithm is not defined for non-positive numbers.\")\n",
    "if number < 0:\n",
    "    print(\"Factorial is not defined for negative numbers.\")\n",
    "else:\n",
    "    print(\"The factorial value is: \", math.factorial(number))"
   ]
  },
  {
   "cell_type": "code",
   "execution_count": 17,
   "id": "86320174",
   "metadata": {},
   "outputs": [
    {
     "name": "stdout",
     "output_type": "stream",
     "text": [
      "Enter the length of the rectangle: 4\n",
      "Enter the width of the rectangle: 2\n",
      "The area of the rectangle is:  8.0\n"
     ]
    }
   ],
   "source": [
    "class Rectangle:\n",
    "    def __init__(self, length, width):\n",
    "        self.length = length\n",
    "        self.width = width\n",
    "\n",
    "    def calculate(self):\n",
    "        # Compute the area of the rectangle\n",
    "        area = self.length * self.width\n",
    "        return area\n",
    "\n",
    "length = float(input(\"Enter the length of the rectangle: \"))\n",
    "width = float(input(\"Enter the width of the rectangle: \"))\n",
    "\n",
    "rectangle = Rectangle(length, width)\n",
    "area = rectangle.calculate()\n",
    "print(\"The area of the rectangle is: \", area)"
   ]
  },
  {
   "cell_type": "code",
   "execution_count": null,
   "id": "50923eea",
   "metadata": {},
   "outputs": [],
   "source": []
  }
 ],
 "metadata": {
  "kernelspec": {
   "display_name": "Python 3 (ipykernel)",
   "language": "python",
   "name": "python3"
  },
  "language_info": {
   "codemirror_mode": {
    "name": "ipython",
    "version": 3
   },
   "file_extension": ".py",
   "mimetype": "text/x-python",
   "name": "python",
   "nbconvert_exporter": "python",
   "pygments_lexer": "ipython3",
   "version": "3.11.5"
  }
 },
 "nbformat": 4,
 "nbformat_minor": 5
}
